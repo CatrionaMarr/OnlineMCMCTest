{
 "cells": [
  {
   "cell_type": "code",
   "execution_count": null,
   "metadata": {},
   "outputs": [],
   "source": [
    "import numpy as np\n"
   ]
  },
  {
   "cell_type": "code",
   "execution_count": null,
   "metadata": {},
   "outputs": [],
   "source": [
    "# set true gradient and y-intercept for a linear model\n",
    "m = 3.5 # gradient\n",
    "c = 1.2 # y-intercept\n",
    "\n",
    "# set the \"predictor variable\"/abscissa\n",
    "x = np.linspace(0., 10., 100) # 100 points linearly spaced bet\n",
    "\n",
    "# create some \"data\" - the model plus Gaussian noise\n",
    "sigma = 0.4 # standard deviation of noise\n",
    "y = m*x + c + np.random.randn(len(x))*sigma\n"
   ]
  },
  {
   "cell_type": "code",
   "execution_count": null,
   "metadata": {},
   "outputs": [],
   "source": []
  }
 ],
 "metadata": {
  "kernelspec": {
   "display_name": "Python 2",
   "language": "python",
   "name": "python2"
  },
  "language_info": {
   "codemirror_mode": {
    "name": "ipython",
    "version": 2
   },
   "file_extension": ".py",
   "mimetype": "text/x-python",
   "name": "python",
   "nbconvert_exporter": "python",
   "pygments_lexer": "ipython2",
   "version": "2.7.12"
  }
 },
 "nbformat": 4,
 "nbformat_minor": 2
}
